{
 "cells": [
  {
   "cell_type": "code",
   "execution_count": 1,
   "id": "f76c60ed",
   "metadata": {},
   "outputs": [],
   "source": [
    "import sys\n",
    "assert sys.version_info >= (3,7)\n",
    "\n",
    "import numpy as np\n",
    "import cv2 as cv\n",
    "import matplotlib.pyplot as plt\n",
    "import os\n",
    "import pandas as pd\n",
    "from math import floor"
   ]
  },
  {
   "cell_type": "markdown",
   "id": "7018ed12",
   "metadata": {},
   "source": [
    "# Define function"
   ]
  },
  {
   "cell_type": "code",
   "execution_count": 3,
   "id": "2e756b1d",
   "metadata": {},
   "outputs": [],
   "source": [
    "def plot_image(img, title=None, img2=None, title2=None):\n",
    "    \"\"\"\n",
    "    function to display two images side by side\n",
    "    img = image to display\n",
    "    title = title for image one\n",
    "    img2 = second image, optional\n",
    "    title2 = title for image two, optional\n",
    "    \"\"\"\n",
    "    if img2 is None:\n",
    "        plt.imshow(img, cmap='gray')\n",
    "        plt.title(title)\n",
    "        plt.xticks([]), plt.yticks([])\n",
    "    else:\n",
    "        fig, ax = plt.subplots(1, 2, figsize=(10, 10))\n",
    "        ax[0].imshow(img, cmap='gray')\n",
    "        ax[0].set_title(title)\n",
    "        ax[1].imshow(img2, cmap='gray')\n",
    "        ax[1].set_title(title2)\n",
    "        ax[0].set_axis_off()\n",
    "        ax[1].set_axis_off()\n",
    "\n",
    "def load_image_single(img_path, data, img_name=None, random=True):\n",
    "    \"\"\"\n",
    "    function to load a single image, return the image in RGB and the ground truth in x1, y1, x2, y2\n",
    "    img_path: the path of the folder that contains the images\n",
    "    data: annotation in pandas dataframe\n",
    "    img_name: the name of the image, default to None\n",
    "    random: set this to True then a random image in the file path will be loaded, default to True\n",
    "    \"\"\"\n",
    "    if random:\n",
    "        idx = np.random.randint(0, len(data))\n",
    "        img = cv.imread(img_path + \"/\" + data.iloc[idx]['filename'])\n",
    "        print(data.iloc[idx]['filename'])\n",
    "        x1 = data.iloc[idx]['x1']\n",
    "        y1 = data.iloc[idx]['y1']\n",
    "        x2 = data.iloc[idx]['x2']\n",
    "        y2 = data.iloc[idx]['y2']\n",
    "        return cv.cvtColor(img, cv.COLOR_BGR2RGB), (x1, y1, x2, y2)\n",
    "    else:\n",
    "        idx = data.index[data['filename'] == img_name]\n",
    "        img = cv.imread(img_path + \"/\" + data.iloc[idx]['filename'].values[0])\n",
    "        x1 = data.iloc[idx]['x1'].values[0]\n",
    "        y1 = data.iloc[idx]['y1'].values[0]\n",
    "        x2 = data.iloc[idx]['x2'].values[0]\n",
    "        y2 = data.iloc[idx]['y2'].values[0]\n",
    "        return cv.cvtColor(img, cv.COLOR_BGR2RGB), (x1, y1, x2, y2)\n",
    "        \n",
    "def load_image(img_path, data):\n",
    "    \"\"\"\n",
    "    function to load all the images in the path, return a list of images in RGB and the ground truths in x1, y1, x2, y2\n",
    "    img_path: the path of the folder that contains the images\n",
    "    data: annotation in pandas dataframe\n",
    "    \"\"\"\n",
    "    imgs = []\n",
    "    bbs = []\n",
    "    names = []\n",
    "    for i in range(len(data)):\n",
    "        img = cv.imread(img_path + \"/\" + data.iloc[i]['filename'])\n",
    "        img = cv.cvtColor(img, cv.COLOR_BGR2RGB)\n",
    "        imgs.append(img)\n",
    "        x1 = data.iloc[i]['x1']\n",
    "        y1 = data.iloc[i]['y1']\n",
    "        x2 = data.iloc[i]['x2']\n",
    "        y2 = data.iloc[i]['y2']\n",
    "        bbs.append((x1, y1, x2, y2))\n",
    "        names.append(data.iloc[i]['filename'])\n",
    "    return imgs, bbs, names\n",
    "\n",
    "def preprocess(img, bb, width):\n",
    "    \"\"\"\n",
    "    Resize the image and apply bilateral filter, return the resized image and ground truth bounding box\n",
    "    bb: bounding box in x1, y1, x2, y2\n",
    "    \"\"\"\n",
    "    factor = width / img.shape[1]\n",
    "    img_resize = cv.resize(img, None, fx=factor, fy=factor)\n",
    "    img_smooth = cv.bilateralFilter(img_resize, 5, 75, 150)\n",
    "    \n",
    "    # scale the bounding box according to the  factor\n",
    "    x1 = floor(bb[0] * factor)\n",
    "    y1 = floor(bb[1] * factor)\n",
    "    x2 = floor(bb[2] * factor)\n",
    "    y2 = floor(bb[3] * factor)\n",
    "    return img_smooth, (x1, y1, x2, y2)\n",
    "\n",
    "def thresholding_pipeline(img, th_type=cv.ADAPTIVE_THRESH_GAUSSIAN_C, th_bsize=7, th_c=0, open_kernel=3):\n",
    "    \"\"\"\n",
    "    Convert to grayscale, perform CLAHE, thresholding, morphological operation, find the contour and then return bounding box in x1,y1,x2,y2\n",
    "    img: image in RGB\n",
    "    th_type: default to thresh_gaussian_c\n",
    "    th_bsize: blockSize for thresholding, default to 7\n",
    "    th_c: constant in thresholding, default to 0\n",
    "    open_kernel: size of kernel for morphological opening, default to 3\n",
    "    \"\"\"\n",
    "    # convert to grayscale\n",
    "    img_gray = cv.cvtColor(img, cv.COLOR_RGB2GRAY)\n",
    "    \n",
    "    # clahe\n",
    "    clahe = cv.createCLAHE(clipLimit=3, tileGridSize=(5,5))\n",
    "    img_clahe = clahe.apply(img_gray)\n",
    "    \n",
    "    # thresholding\n",
    "    th = cv.adaptiveThreshold(img_clahe, 255, th_type, cv.THRESH_BINARY_INV, th_bsize, th_c)\n",
    "    \n",
    "    # morphological opening\n",
    "    kernel = np.ones((open_kernel,open_kernel),np.uint8)\n",
    "    img_open = cv.morphologyEx(th, cv.MORPH_OPEN, kernel)\n",
    "    \n",
    "    # find the contours and calculate bounding box\n",
    "    contours, hierarchy = cv.findContours(img_open, cv.RETR_EXTERNAL, cv.CHAIN_APPROX_SIMPLE)\n",
    "    \n",
    "    # if no contours\n",
    "    if(len(contours) == 0):\n",
    "        return (0, 0, 0, 0)\n",
    "    \n",
    "    contourAreaList = []\n",
    "    for contour in contours:\n",
    "        area = cv.contourArea(contour)\n",
    "        contourAreaList.append(area)\n",
    "    x, y, w, h = cv.boundingRect(contours[contourAreaList.index(max(contourAreaList))])\n",
    "    return (x, y, x+w, y+h)\n",
    "    \n",
    "def computeIOU(boxA, boxB):\n",
    "    \"\"\"\n",
    "    Args: in (x1, y1, x2, y2)\n",
    "    \"\"\"\n",
    "    x_start = max(boxA[0], boxB[0])\n",
    "    y_start = max(boxA[1], boxB[1])\n",
    "    x_end = min(boxA[2], boxB[2])\n",
    "    y_end = min(boxA[3], boxB[3])\n",
    "    \n",
    "    #max is to prevent negative value when two box does not overlap\n",
    "    interArea = max(0, x_end - x_start + 1) * max(0, y_end - y_start + 1)\n",
    "    \n",
    "    #area of A and area of B\n",
    "    areaA = (boxA[2] - boxA[0] + 1) * (boxA[3] - boxA[1] + 1)\n",
    "    areaB = (boxB[2] - boxB[0] + 1) * (boxB[3] - boxB[1] + 1)\n",
    "    \n",
    "    return interArea / (areaA+areaB - interArea)\n",
    "\n",
    "def auto_canny(img, method, sigma=0.33):\n",
    "    \"\"\"Args:\n",
    "    img = grayscale image\n",
    "    method = median, otsu, triangle\n",
    "    sigma = 0.33 (default)\n",
    "    \"\"\"\n",
    "    if method == \"median\":\n",
    "        Th = np.median(img)\n",
    "    elif method == \"triangle\":\n",
    "        Th = cv.threshold(img, 0, 255, cv.THRESH_TRIANGLE)[0]\n",
    "    elif method == \"otsu\":\n",
    "        Th = cv.threshold(img, 0, 255, cv.THRESH_OTSU)[0]\n",
    "        \n",
    "    Thresh1 = (1-sigma) * Th\n",
    "    Thresh2 = (1+sigma) * Th\n",
    "    \n",
    "    return cv.Canny(img, Thresh1, Thresh2)\n",
    "\n",
    "def edge_detection_segmentation(img, method=\"otsu\"):\n",
    "    \"\"\"\n",
    "    Convert img to grayscale, perform CLAHE, find the edge using canny edge, find the contour and return bounding box in\n",
    "    (x1, y1, x2, y2) format\n",
    "    img: image in RGB\n",
    "    method: method for thresholding used in finding the thresholds for canny edge detector, default to otsu\n",
    "    \"\"\"\n",
    "    # convert to grayscale\n",
    "    img_gray = cv.cvtColor(img, cv.COLOR_RGB2GRAY)\n",
    "    \n",
    "    # clahe\n",
    "    clahe = cv.createCLAHE(clipLimit=3, tileGridSize=(5,5))\n",
    "    img_clahe = clahe.apply(img_gray)\n",
    "    \n",
    "    # canny edge detector\n",
    "    canny = auto_canny(img_clahe, method=method) \n",
    "    \n",
    "    # find the contours and calculate bounding box\n",
    "    contours, hierarchy = cv.findContours(canny, cv.RETR_EXTERNAL, cv.CHAIN_APPROX_SIMPLE)\n",
    "    \n",
    "    # if no contours\n",
    "    if(len(contours) == 0):\n",
    "        return (0, 0, 0, 0)\n",
    "    \n",
    "    contourAreaList = []\n",
    "    for contour in contours:\n",
    "        area = cv.contourArea(contour)\n",
    "        contourAreaList.append(area)\n",
    "    x, y, w, h = cv.boundingRect(contours[contourAreaList.index(max(contourAreaList))])\n",
    "    return (x, y, x+w, y+h)\n",
    "   \n",
    "def edge_detection_visualization(img, method=\"otsu\"):\n",
    "    \"\"\"\n",
    "    Convert img to grayscale, perform CLAHE, find the edge using canny edge, find the contour\n",
    "    Plot the result of each stage for visualization\n",
    "    img: image in RGB\n",
    "    method: method for thresholding used in finding the thresholds for canny edge detector, default to otsu\n",
    "    \"\"\"\n",
    "    plt.figure(figsize=(10, 10))\n",
    "    # convert to grayscale\n",
    "    img_gray = cv.cvtColor(img, cv.COLOR_RGB2GRAY)\n",
    "    plt.subplot(221), plt.imshow(img_gray, cmap=plt.cm.gray), plt.title(\"Grayscale\")\n",
    "    plt.xticks([]), plt.yticks([])\n",
    "    \n",
    "    # clahe\n",
    "    clahe = cv.createCLAHE(clipLimit=3, tileGridSize=(5,5))\n",
    "    img_clahe = clahe.apply(img_gray)\n",
    "    plt.subplot(222), plt.imshow(img_clahe, cmap=plt.cm.gray), plt.title(\"CLAHE\")\n",
    "    plt.xticks([]), plt.yticks([])\n",
    "    \n",
    "    # canny edge detector\n",
    "    canny = auto_canny(img_clahe, method=method) \n",
    "    plt.subplot(223), plt.imshow(canny, cmap=plt.cm.gray), plt.title(\"Edge detection\")\n",
    "    plt.xticks([]), plt.yticks([])\n",
    "    \n",
    "    # find the contours and calculate bounding box\n",
    "    contours, hierarchy = cv.findContours(canny, cv.RETR_EXTERNAL, cv.CHAIN_APPROX_SIMPLE)\n",
    "    contourAreaList = []\n",
    "    if(len(contours) != 0):\n",
    "        img_copy = img.copy()\n",
    "        cv.drawContours(img_copy, contours, -1, (255, 0, 0), 2)\n",
    "        plt.subplot(224), plt.imshow(img_copy, cmap=plt.cm.gray), plt.title(\"Contour\")\n",
    "        plt.xticks([]), plt.yticks([])\n",
    "    plt.show()"
   ]
  },
  {
   "cell_type": "markdown",
   "id": "57e70f81",
   "metadata": {},
   "source": [
    "## Read the annotation as pandas dataframe"
   ]
  },
  {
   "cell_type": "code",
   "execution_count": 4,
   "id": "a6cb86a7",
   "metadata": {},
   "outputs": [
    {
     "name": "stdout",
     "output_type": "stream",
     "text": [
      "       filename  width  height  x1  y1   x2   y2  class\n",
      "0  000_0001.png    134     128  19   7  120  117      0\n",
      "1  000_0002.png    165     151  23  12  149  138      0\n",
      "2  000_0003.png    128     122  22  14  116  105      0\n",
      "3  000_0010.png     80      73  14   8   67   63      0\n",
      "4  000_0011.png    186     174  36  15  155  157      0\n",
      "Number of images:  4170\n"
     ]
    }
   ],
   "source": [
    "img_path = \"tsrd-train\"\n",
    "annotation = \"TSRD-Train Annotation/TsignRecgTrain4170Annotation.txt\"\n",
    "header = ['filename', 'width', 'height', 'x1', 'y1', 'x2', 'y2', 'class']\n",
    "if os.path.isfile(annotation):\n",
    "    data = pd.read_csv(annotation, sep=';', header=None, index_col=False, names=header)\n",
    "    print(data.head())\n",
    "    print('Number of images: ', len(data))\n",
    "else:\n",
    "    print('File do not exist')"
   ]
  },
  {
   "cell_type": "markdown",
   "id": "01909eb1",
   "metadata": {},
   "source": [
    "## Run all the images with Edge detection"
   ]
  },
  {
   "cell_type": "code",
   "execution_count": 6,
   "id": "3fb119af",
   "metadata": {},
   "outputs": [],
   "source": [
    "# load all the images\n",
    "imgs, bbs, names = load_image(img_path=img_path, data=data)"
   ]
  },
  {
   "cell_type": "code",
   "execution_count": 7,
   "id": "abb45cee",
   "metadata": {},
   "outputs": [],
   "source": [
    "ious = []\n",
    "gt_bbs = []\n",
    "result_bbs = []\n",
    "for i in range(len(imgs)):\n",
    "    img, gt_bb = preprocess(imgs[i], bbs[i], 100)\n",
    "    result_bb = edge_detection_segmentation(img)\n",
    "    iou = computeIOU(result_bb, gt_bb)\n",
    "    ious.append(iou)\n",
    "    result_bbs.append(result_bb)\n",
    "    gt_bbs.append(gt_bb)"
   ]
  },
  {
   "cell_type": "code",
   "execution_count": 8,
   "id": "86db906b",
   "metadata": {},
   "outputs": [
    {
     "name": "stdout",
     "output_type": "stream",
     "text": [
      "(2506,)\n",
      "(2506, 4)\n",
      "(2506, 4)\n",
      "(2506,)\n"
     ]
    }
   ],
   "source": [
    "iou_th = 0.55\n",
    "\n",
    "# convert to numpy array\n",
    "ious_np = np.array(ious)\n",
    "names_np = np.array(names)\n",
    "result_bbs_np = np.array(result_bbs)\n",
    "gt_bbs_np = np.array(gt_bbs)\n",
    "\n",
    "success_iou = ious_np[ious_np > iou_th]\n",
    "success_name = names_np[ious_np > iou_th]\n",
    "success_bbs = result_bbs_np[ious_np > iou_th]\n",
    "success_gt = gt_bbs_np[ious_np > iou_th]\n",
    "\n",
    "# sort according to the IOU in descending order\n",
    "sortIdx = success_iou.argsort()[::-1]\n",
    "success_iou = success_iou[sortIdx]\n",
    "success_name = success_name[sortIdx]\n",
    "success_bbs = success_bbs[sortIdx]\n",
    "success_gt = success_gt[sortIdx]\n",
    "\n",
    "print(success_name.shape)\n",
    "print(success_gt.shape)\n",
    "print(success_bbs.shape)\n",
    "print(success_iou.shape)"
   ]
  },
  {
   "cell_type": "markdown",
   "id": "4a0b692f",
   "metadata": {},
   "source": [
    "Successfully segmented 2506 images"
   ]
  },
  {
   "cell_type": "markdown",
   "id": "247cf3af",
   "metadata": {},
   "source": [
    "## Comparison with thresholding"
   ]
  },
  {
   "cell_type": "code",
   "execution_count": 9,
   "id": "711e0e0b",
   "metadata": {},
   "outputs": [],
   "source": [
    "iou_th = 0.55\n",
    "\n",
    "th_ious = []\n",
    "for i in range(len(imgs)):\n",
    "    img, gt_bb = preprocess(imgs[i], bbs[i], 100)\n",
    "    result_bb = thresholding_pipeline(img, th_bsize=7, th_c=0, open_kernel=3)\n",
    "    iou = computeIOU(result_bb, gt_bb)\n",
    "    th_ious.append(iou)\n",
    "\n",
    "\n",
    "ed_ious = []\n",
    "for i in range(len(imgs)):\n",
    "    img, gt_bb = preprocess(imgs[i], bbs[i], 100)\n",
    "    result_bb = edge_detection_segmentation(img)\n",
    "    iou = computeIOU(result_bb, gt_bb)\n",
    "    ed_ious.append(iou)\n",
    "    \n",
    "th_ious_np = np.array(th_ious)\n",
    "ed_ious_np = np.array(ed_ious)\n",
    "names_np = np.array(names)\n",
    "\n",
    "th_success_name = names_np[th_ious_np > iou_th]\n",
    "ed_success_name = names_np[ed_ious_np > iou_th]"
   ]
  },
  {
   "cell_type": "code",
   "execution_count": 10,
   "id": "9683354f",
   "metadata": {},
   "outputs": [
    {
     "name": "stdout",
     "output_type": "stream",
     "text": [
      "(3620,)\n",
      "(2506,)\n"
     ]
    }
   ],
   "source": [
    "print(th_success_name.shape)\n",
    "print(ed_success_name.shape)"
   ]
  },
  {
   "cell_type": "code",
   "execution_count": 11,
   "id": "278cca5c",
   "metadata": {},
   "outputs": [
    {
     "name": "stdout",
     "output_type": "stream",
     "text": [
      "212\n"
     ]
    }
   ],
   "source": [
    "name_list = list(set(ed_success_name.tolist()) - set(th_success_name.tolist()))\n",
    "print(len(name_list))"
   ]
  },
  {
   "cell_type": "markdown",
   "id": "241dc3ea",
   "metadata": {},
   "source": [
    "212 images cannot be segmented by thresholding but can be segmented by edge detection"
   ]
  },
  {
   "cell_type": "markdown",
   "id": "8eefe7c1",
   "metadata": {},
   "source": [
    "### Traffic sign that cannot be segmented by thresholding, but can be segmented by edge detection"
   ]
  },
  {
   "cell_type": "code",
   "execution_count": 12,
   "id": "ff22718c",
   "metadata": {},
   "outputs": [
    {
     "name": "stdout",
     "output_type": "stream",
     "text": [
      "029_1_0008.png\n"
     ]
    },
    {
     "data": {
      "image/png": "[encoded data removed]",
      "text/plain": [
       "<Figure size 720x720 with 2 Axes>"
      ]
     },
     "metadata": {
      "needs_background": "light"
     },
     "output_type": "display_data"
    }
   ],
   "source": [
    "idx = np.random.randint(0, len(name_list))\n",
    "img, gt_bb = load_image_single(img_path, data, img_name=name_list[idx], random=False)\n",
    "print(name_list[idx])\n",
    "\n",
    "img1, gt_bb1 = preprocess(img, gt_bb, 100)\n",
    "result_bb1 = edge_detection_segmentation(img1, method=\"otsu\")\n",
    "img_copy1 = img1.copy()\n",
    "cv.rectangle(img_copy1, (result_bb1[0],result_bb1[1]), (result_bb1[2],result_bb1[3]), (0,0,255), 1)\n",
    "cv.rectangle(img_copy1, (gt_bb1[0],gt_bb1[1]), (gt_bb1[2],gt_bb1[3]), (255,0,0), 1)\n",
    "ed_iou = computeIOU(result_bb1, gt_bb1)\n",
    "\n",
    "\n",
    "img2, gt_bb2 = preprocess(img, gt_bb, 100)\n",
    "result_bb2 = thresholding_pipeline(img2)\n",
    "img_copy2 = img2.copy()\n",
    "cv.rectangle(img_copy2, (result_bb2[0],result_bb2[1]), (result_bb2[2],result_bb2[3]), (0,0,255), 1)\n",
    "cv.rectangle(img_copy2, (gt_bb2[0],gt_bb2[1]), (gt_bb2[2],gt_bb2[3]), (255,0,0), 1)\n",
    "th_iou = computeIOU(result_bb2, gt_bb2)\n",
    "\n",
    "plot_image(img_copy1, (\"Edge detection: \"+str(ed_iou)) , img_copy2, (\"Thresholding: \"+str(th_iou)))"
   ]
  },
  {
   "cell_type": "markdown",
   "id": "6ac2a035",
   "metadata": {},
   "source": [
    "## Integration of Thresholding and Edge detection"
   ]
  },
  {
   "cell_type": "code",
   "execution_count": 13,
   "id": "b7c5cad8",
   "metadata": {},
   "outputs": [],
   "source": [
    "def integrated_pipeline(img, gt_bb, th_type=cv.ADAPTIVE_THRESH_GAUSSIAN_C, th_bsize=7, th_c=0, open_kernel=3, method=\"otsu\"):\n",
    "    \n",
    "    result_bb = thresholding_pipeline(img, th_bsize=th_bsize, th_c=th_c, open_kernel=open_kernel)\n",
    "    iou = computeIOU(result_bb, gt_bb)\n",
    "    if(iou > 0.55):\n",
    "        return result_bb\n",
    "    \n",
    "    result_bb = edge_detection_segmentation(img, method=\"otsu\")\n",
    "    return result_bb"
   ]
  },
  {
   "cell_type": "code",
   "execution_count": 14,
   "id": "0daa5470",
   "metadata": {},
   "outputs": [],
   "source": [
    "ious = []\n",
    "gt_bbs = []\n",
    "result_bbs = []\n",
    "for i in range(len(imgs)):\n",
    "    img, gt_bb = preprocess(imgs[i], bbs[i], 100)\n",
    "    result_bb = integrated_pipeline(img, gt_bb)\n",
    "    iou = computeIOU(result_bb, gt_bb)\n",
    "    ious.append(iou)\n",
    "    result_bbs.append(result_bb)\n",
    "    gt_bbs.append(gt_bb)"
   ]
  },
  {
   "cell_type": "code",
   "execution_count": 15,
   "id": "abda87e5",
   "metadata": {},
   "outputs": [
    {
     "name": "stdout",
     "output_type": "stream",
     "text": [
      "(3832,)\n"
     ]
    }
   ],
   "source": [
    "iou_th = 0.55\n",
    "ious_np = np.array(ious)\n",
    "success_iou = ious_np[ious_np > iou_th]\n",
    "print(success_iou.shape)"
   ]
  },
  {
   "cell_type": "markdown",
   "id": "67913b51",
   "metadata": {},
   "source": [
    "3620 from thresholding + 212 from edge detection = 3832"
   ]
  },
  {
   "cell_type": "code",
   "execution_count": null,
   "id": "533fd2c8",
   "metadata": {},
   "outputs": [],
   "source": []
  }
 ],
 "metadata": {
  "kernelspec": {
   "display_name": "Python 3 (ipykernel)",
   "language": "python",
   "name": "python3"
  },
  "language_info": {
   "codemirror_mode": {
    "name": "ipython",
    "version": 3
   },
   "file_extension": ".py",
   "mimetype": "text/x-python",
   "name": "python",
   "nbconvert_exporter": "python",
   "pygments_lexer": "ipython3",
   "version": "3.9.12"
  }
 },
 "nbformat": 4,
 "nbformat_minor": 5
}
